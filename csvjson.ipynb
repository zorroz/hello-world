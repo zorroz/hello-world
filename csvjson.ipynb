{
  "nbformat": 4,
  "nbformat_minor": 0,
  "metadata": {
    "colab": {
      "name": "csvjson.ipynb",
      "provenance": [],
      "collapsed_sections": [],
      "include_colab_link": true
    },
    "kernelspec": {
      "name": "python3",
      "display_name": "Python 3"
    }
  },
  "cells": [
    {
      "cell_type": "markdown",
      "metadata": {
        "id": "view-in-github",
        "colab_type": "text"
      },
      "source": [
        "<a href=\"https://colab.research.google.com/github/zorroz/hello-world/blob/master/csvjson.ipynb\" target=\"_parent\"><img src=\"https://colab.research.google.com/assets/colab-badge.svg\" alt=\"Open In Colab\"/></a>"
      ]
    },
    {
      "cell_type": "code",
      "metadata": {
        "id": "iScDvtpxh5pT",
        "colab_type": "code",
        "outputId": "99f5d79b-3870-45b5-c918-61b3e998f29d",
        "colab": {
          "base_uri": "https://localhost:8080/",
          "height": 170
        }
      },
      "source": [
        "import csv\n",
        "from distutils.log import warn as printf\n",
        "\n",
        "DATA = (\n",
        "    (9, 'Web Clients and Servers', 'base64, urllib'),\n",
        "    (10, 'Web Programming: CGI & WCGI', 'cgi, time, wsgiref'),\n",
        "    (13, 'Web Services', 'urllib, twyton')\n",
        ")\n",
        "\n",
        "printf('*** WRITING CSV DATA')\n",
        "f = open('bookdata.csv', 'w')\n",
        "writer = csv.writer(f)\n",
        "for record in DATA:\n",
        "  writer.writerow(record)\n",
        "f.close()\n",
        "\n",
        "printf('*** REVIEW OF SAVED DATA')\n",
        "f = open('bookdata.csv', 'r')\n",
        "reader = csv.reader(f)\n",
        "for chap, title, modpkgs in reader:\n",
        "  printf('Chapter %s: %r (featuring %s)' %\n",
        "         (chap, title, modpkgs))\n",
        "f.close()\n",
        "\n",
        "f = open('bookdata.csv', 'r')\n",
        "reader = csv.reader(f)\n",
        "for (chap,title,modpkgs) in reader:\n",
        "  print(chap,modpkgs)\n",
        "\n",
        "f.close()\n",
        "\n",
        "with open('bookdata.csv') as f:\n",
        "  reader = csv.reader(f)\n",
        "  print(sum(int(line[0]) for line in reader))\n",
        "\n"
      ],
      "execution_count": 23,
      "outputs": [
        {
          "output_type": "stream",
          "text": [
            "*** WRITING CSV DATA\n",
            "*** REVIEW OF SAVED DATA\n",
            "Chapter 9: 'Web Clients and Servers' (featuring base64, urllib)\n",
            "Chapter 10: 'Web Programming: CGI & WCGI' (featuring cgi, time, wsgiref)\n",
            "Chapter 13: 'Web Services' (featuring urllib, twyton)\n"
          ],
          "name": "stderr"
        },
        {
          "output_type": "stream",
          "text": [
            "9 base64, urllib\n",
            "10 cgi, time, wsgiref\n",
            "13 urllib, twyton\n",
            "32\n"
          ],
          "name": "stdout"
        }
      ]
    },
    {
      "cell_type": "code",
      "metadata": {
        "id": "5KzIh3xDu5_1",
        "colab_type": "code",
        "colab": {
          "base_uri": "https://localhost:8080/",
          "height": 615
        },
        "outputId": "976d9401-e614-4467-951c-f47e3019da36"
      },
      "source": [
        "from distutils.log import warn as printf\n",
        "from json import dumps\n",
        "from pprint import pprint\n",
        "\n",
        "BOOKs = {\n",
        " '0132269937': {\n",
        " 'title': 'Core Python Programming',\n",
        " 'edition': 2,\n",
        " 'year': 2007,\n",
        " },\n",
        " '0132356139': {\n",
        " 'title': 'Python Web Development with Django',\n",
        " 'authors': ['Jeff Forcier', 'Paul Bissex', 'Wesley Chun'],\n",
        " 'year': 2009,\n",
        " },\n",
        " '0137143419': {\n",
        " 'title': 'Python Fundamentals',\n",
        " 'year': 2009,\n",
        " },\n",
        "}\n",
        "\n",
        "printf('*** RAW DICT ***')\n",
        "printf(BOOKs)\n",
        "\n",
        "printf('\\n*** PRETTY_PRINTED DICT ***')\n",
        "pprint(BOOKs)\n",
        "\n",
        "printf('\\n*** RAW JSON ***')\n",
        "printf(dumps(BOOKs))\n",
        "\n",
        "printf('\\n*** PRETTY_PRINTED JSON ***')\n",
        "printf(dumps(BOOKs, indent=4))\n",
        "\n",
        "\n",
        "\n"
      ],
      "execution_count": 29,
      "outputs": [
        {
          "output_type": "stream",
          "text": [
            "*** RAW DICT ***\n",
            "{'0132269937': {'title': 'Core Python Programming', 'edition': 2, 'year': 2007}, '0132356139': {'title': 'Python Web Development with Django', 'authors': ['Jeff Forcier', 'Paul Bissex', 'Wesley Chun'], 'year': 2009}, '0137143419': {'title': 'Python Fundamentals', 'year': 2009}}\n",
            "\n",
            "*** PRETTY_PRINTED DICT ***\n",
            "\n",
            "*** RAW JSON ***\n",
            "{\"0132269937\": {\"title\": \"Core Python Programming\", \"edition\": 2, \"year\": 2007}, \"0132356139\": {\"title\": \"Python Web Development with Django\", \"authors\": [\"Jeff Forcier\", \"Paul Bissex\", \"Wesley Chun\"], \"year\": 2009}, \"0137143419\": {\"title\": \"Python Fundamentals\", \"year\": 2009}}\n",
            "\n",
            "*** PRETTY_PRINTED JSON ***\n",
            "{\n",
            "    \"0132269937\": {\n",
            "        \"title\": \"Core Python Programming\",\n",
            "        \"edition\": 2,\n",
            "        \"year\": 2007\n",
            "    },\n",
            "    \"0132356139\": {\n",
            "        \"title\": \"Python Web Development with Django\",\n",
            "        \"authors\": [\n",
            "            \"Jeff Forcier\",\n",
            "            \"Paul Bissex\",\n",
            "            \"Wesley Chun\"\n",
            "        ],\n",
            "        \"year\": 2009\n",
            "    },\n",
            "    \"0137143419\": {\n",
            "        \"title\": \"Python Fundamentals\",\n",
            "        \"year\": 2009\n",
            "    }\n",
            "}\n"
          ],
          "name": "stderr"
        },
        {
          "output_type": "stream",
          "text": [
            "{'0132269937': {'edition': 2, 'title': 'Core Python Programming', 'year': 2007},\n",
            " '0132356139': {'authors': ['Jeff Forcier', 'Paul Bissex', 'Wesley Chun'],\n",
            "                'title': 'Python Web Development with Django',\n",
            "                'year': 2009},\n",
            " '0137143419': {'title': 'Python Fundamentals', 'year': 2009}}\n"
          ],
          "name": "stdout"
        }
      ]
    }
  ]
}